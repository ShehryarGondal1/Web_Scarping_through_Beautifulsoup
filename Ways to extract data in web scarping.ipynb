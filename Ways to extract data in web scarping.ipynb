{
 "cells": [
  {
   "cell_type": "code",
   "execution_count": null,
   "id": "6d49b420",
   "metadata": {},
   "outputs": [],
   "source": [
    "To extract information from multiple divs with different classes, you can use web scraping tools like BeautifulSoup or Scrapy in Python.\n",
    "\n",
    "Here is an example using BeautifulSoup:\n",
    "\n",
    "First, you need to import the required libraries:\n",
    "python\n",
    "Copy code\n",
    "from bs4 import BeautifulSoup\n",
    "import requests\n",
    "Then, you need to make a request to the website to get the HTML content:\n",
    "python\n",
    "Copy code\n",
    "url = 'https://example.com'\n",
    "response = requests.get(url)\n",
    "Next, you can create a BeautifulSoup object from the HTML content:\n",
    "python\n",
    "Copy code\n",
    "soup = BeautifulSoup(response.text, 'html.parser')\n",
    "To extract information from multiple divs with different classes, you can use the find_all() method and pass in a list of class names:\n",
    "python\n",
    "Copy code\n",
    "div_classes = ['class1', 'class2', 'class3']\n",
    "divs = soup.find_all('div', {'class': div_classes})\n",
    "This will return a list of all divs that have either class1, class2, or class3 in their class attribute.\n",
    "\n",
    "Once you have the divs, you can extract the information you need from them using methods like find(), find_all(), or text:\n",
    "python\n",
    "Copy code\n",
    "for div in divs:\n",
    "    title = div.find('h2').text\n",
    "    image = div.find('img')['src']\n",
    "    description = div.find('p').text\n",
    "    print(title, image, description)\n",
    "This will print out the title, image URL, and description for each div that matches the class names you provided.\n",
    "\n",
    "Note that you may need to inspect the HTML source code of the website to determine the class names to use in your web scraping code.\n"
   ]
  },
  {
   "cell_type": "markdown",
   "id": "ecbb28b0",
   "metadata": {},
   "source": [
    "__To extract href from mutiple divs and their classes names are different__"
   ]
  },
  {
   "cell_type": "code",
   "execution_count": null,
   "id": "35e7e5da",
   "metadata": {},
   "outputs": [],
   "source": [
    "import requests\n",
    "from bs4 import BeautifulSoup\n",
    "\n",
    "# Make a request to the website\n",
    "url = 'https://www.example.com'\n",
    "response = requests.get(url)\n",
    "\n",
    "# Parse the HTML content using BeautifulSoup\n",
    "soup = BeautifulSoup(response.content, 'html.parser')\n",
    "\n",
    "# Find all div elements with different class names\n",
    "div_tags = soup.find_all('div', {'class': ['class1', 'class2', 'class3']})\n",
    "\n",
    "# Extract href from each div tag\n",
    "for div in div_tags:\n",
    "    href = div.find('a')['href']\n",
    "    print(href)"
   ]
  }
 ],
 "metadata": {
  "kernelspec": {
   "display_name": "Python 3 (ipykernel)",
   "language": "python",
   "name": "python3"
  },
  "language_info": {
   "codemirror_mode": {
    "name": "ipython",
    "version": 3
   },
   "file_extension": ".py",
   "mimetype": "text/x-python",
   "name": "python",
   "nbconvert_exporter": "python",
   "pygments_lexer": "ipython3",
   "version": "3.9.12"
  },
  "varInspector": {
   "cols": {
    "lenName": 16,
    "lenType": 16,
    "lenVar": 40
   },
   "kernels_config": {
    "python": {
     "delete_cmd_postfix": "",
     "delete_cmd_prefix": "del ",
     "library": "var_list.py",
     "varRefreshCmd": "print(var_dic_list())"
    },
    "r": {
     "delete_cmd_postfix": ") ",
     "delete_cmd_prefix": "rm(",
     "library": "var_list.r",
     "varRefreshCmd": "cat(var_dic_list()) "
    }
   },
   "types_to_exclude": [
    "module",
    "function",
    "builtin_function_or_method",
    "instance",
    "_Feature"
   ],
   "window_display": false
  }
 },
 "nbformat": 4,
 "nbformat_minor": 5
}
