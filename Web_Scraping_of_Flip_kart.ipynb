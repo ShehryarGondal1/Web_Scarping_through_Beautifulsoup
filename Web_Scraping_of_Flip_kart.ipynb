{
 "cells": [
  {
   "cell_type": "code",
   "execution_count": 1,
   "id": "59e460e4",
   "metadata": {},
   "outputs": [],
   "source": [
    "import requests\n",
    "from bs4 import BeautifulSoup as bs\n",
    "from urllib.request import urlopen as UReq\n",
    "import logging"
   ]
  },
  {
   "cell_type": "code",
   "execution_count": 2,
   "id": "0f2e9d1f",
   "metadata": {},
   "outputs": [],
   "source": [
    "flipkart_url= \"https://www.flipkart.com/search?q=\"+\"iphone11\""
   ]
  },
  {
   "cell_type": "code",
   "execution_count": 3,
   "id": "4c7a0f8f",
   "metadata": {},
   "outputs": [
    {
     "data": {
      "text/plain": [
       "'https://www.flipkart.com/search?q=iphone11'"
      ]
     },
     "execution_count": 3,
     "metadata": {},
     "output_type": "execute_result"
    }
   ],
   "source": [
    "flipkart_url"
   ]
  },
  {
   "cell_type": "code",
   "execution_count": 5,
   "id": "d13ba0a3",
   "metadata": {},
   "outputs": [],
   "source": [
    "url_client= UReq(flipkart_url)"
   ]
  },
  {
   "cell_type": "code",
   "execution_count": 6,
   "id": "18efb9fd",
   "metadata": {},
   "outputs": [
    {
     "data": {
      "text/plain": [
       "<http.client.HTTPResponse at 0x1e1f6115e50>"
      ]
     },
     "execution_count": 6,
     "metadata": {},
     "output_type": "execute_result"
    }
   ],
   "source": [
    "url_client"
   ]
  },
  {
   "cell_type": "code",
   "execution_count": 7,
   "id": "8dd94da7",
   "metadata": {},
   "outputs": [],
   "source": [
    "flip_kart_page=url_client.read() # As we are getting whole dump data of open_url_of_flipcard"
   ]
  },
  {
   "cell_type": "code",
   "execution_count": 8,
   "id": "be5b15b2",
   "metadata": {},
   "outputs": [],
   "source": [
    "## To get data in human  readable form "
   ]
  },
  {
   "cell_type": "code",
   "execution_count": 10,
   "id": "c481f48a",
   "metadata": {},
   "outputs": [],
   "source": [
    "flip_kart_html=bs(flip_kart_page,'html.parser') # not so readable"
   ]
  },
  {
   "cell_type": "markdown",
   "id": "4a09faec",
   "metadata": {},
   "source": [
    "### As we get the data of whole page but we want to get the reviews of different phones.\n",
    "\n",
    "* So, we inspect the page through by pressing f12 to get the info of website tags"
   ]
  },
  {
   "cell_type": "code",
   "execution_count": 11,
   "id": "35ca1372",
   "metadata": {},
   "outputs": [],
   "source": [
    "# Extract the text content of the comments and names, and the URLs of the images\n",
    "comments = []\n",
    "Ratings=[]\n",
    "href_link=[]\n",
    "names = []\n",
    "image_urls = []"
   ]
  },
  {
   "cell_type": "code",
   "execution_count": 12,
   "id": "790f181f",
   "metadata": {},
   "outputs": [],
   "source": [
    "people_comments=[]"
   ]
  },
  {
   "cell_type": "code",
   "execution_count": 14,
   "id": "22b18a4e",
   "metadata": {},
   "outputs": [],
   "source": [
    "bigbox=flip_kart_html.find_all(\"div\",{\"class\":\"_1AtVbE col-12-12\"}) # It gives list "
   ]
  },
  {
   "cell_type": "code",
   "execution_count": 15,
   "id": "fa6e2a0f",
   "metadata": {},
   "outputs": [
    {
     "data": {
      "text/plain": [
       "30"
      ]
     },
     "execution_count": 15,
     "metadata": {},
     "output_type": "execute_result"
    }
   ],
   "source": [
    "len(bigbox)"
   ]
  },
  {
   "cell_type": "code",
   "execution_count": 16,
   "id": "4b9277b9",
   "metadata": {},
   "outputs": [],
   "source": [
    "del bigbox[0:3]"
   ]
  },
  {
   "cell_type": "code",
   "execution_count": 17,
   "id": "07c27486",
   "metadata": {},
   "outputs": [],
   "source": [
    "product_link=\"https://www.flipkart.com\"+bigbox[3].div.div.div.a[\"href\"] # It gives me the link of box"
   ]
  },
  {
   "cell_type": "code",
   "execution_count": 18,
   "id": "6a2d1ef0",
   "metadata": {},
   "outputs": [],
   "source": [
    "product_request=requests.get(product_link)"
   ]
  },
  {
   "cell_type": "code",
   "execution_count": 19,
   "id": "f2cb357e",
   "metadata": {},
   "outputs": [
    {
     "data": {
      "text/plain": [
       "'https://www.flipkart.com/apple-iphone-11-red-128-gb/p/itm8d14bd0e33a1c?pid=MOBFWQ6BEZTNK59G&lid=LSTMOBFWQ6BEZTNK59G4PTPDM&marketplace=FLIPKART&q=iphone11&store=tyy%2F4io&srno=s_1_5&otracker=search&fm=organic&iid=7fa88aa6-7801-40cb-a652-5e46bcfdf834.MOBFWQ6BEZTNK59G.SEARCH&ppt=None&ppn=None&ssid=rx96uspchc0000001677404482677&qH=d6db477051465f9a'"
      ]
     },
     "execution_count": 19,
     "metadata": {},
     "output_type": "execute_result"
    }
   ],
   "source": [
    "product_link"
   ]
  },
  {
   "cell_type": "code",
   "execution_count": 20,
   "id": "8fd20f97",
   "metadata": {},
   "outputs": [],
   "source": [
    "product_html=bs(product_request.text,'html.parser')"
   ]
  },
  {
   "cell_type": "code",
   "execution_count": 21,
   "id": "240034bf",
   "metadata": {},
   "outputs": [],
   "source": [
    "comment_Box=product_html.find_all(\"div\",{\"class\":\"_16PBlm\"})"
   ]
  },
  {
   "cell_type": "code",
   "execution_count": 22,
   "id": "74402463",
   "metadata": {},
   "outputs": [
    {
     "data": {
      "text/plain": [
       "11"
      ]
     },
     "execution_count": 22,
     "metadata": {},
     "output_type": "execute_result"
    }
   ],
   "source": [
    "len(comment_Box)"
   ]
  },
  {
   "cell_type": "code",
   "execution_count": 23,
   "id": "624ceda0",
   "metadata": {},
   "outputs": [
    {
     "data": {
      "text/plain": [
       "'Manish Raghuvanshi'"
      ]
     },
     "execution_count": 23,
     "metadata": {},
     "output_type": "execute_result"
    }
   ],
   "source": [
    "comment_Box[2].div.div.find_all('p',{\"class\":\"_2sc7ZR _2V5EHH\"})[0].text"
   ]
  },
  {
   "cell_type": "code",
   "execution_count": 24,
   "id": "943b601a",
   "metadata": {},
   "outputs": [],
   "source": [
    "for i in comment_Box:\n",
    "    div = i.div\n",
    "    if div is not None:\n",
    "        p = div.find_all('p',{\"class\":\"_2sc7ZR _2V5EHH\"})\n",
    "        if len(p) > 0:\n",
    "            names.append(p[0].text)"
   ]
  },
  {
   "cell_type": "code",
   "execution_count": 25,
   "id": "c2611391",
   "metadata": {},
   "outputs": [
    {
     "data": {
      "text/plain": [
       "['Flipkart Customer',\n",
       " 'Flipkart Customer',\n",
       " 'Manish Raghuvanshi',\n",
       " 'George Haokip',\n",
       " 'Jimly  Gogoi',\n",
       " 'Vamshi  Chakrala ',\n",
       " 'Chirag Rajput',\n",
       " 'vijay hegde',\n",
       " 'Vishal Dubey',\n",
       " 'Rahul Verma']"
      ]
     },
     "execution_count": 25,
     "metadata": {},
     "output_type": "execute_result"
    }
   ],
   "source": [
    "names"
   ]
  },
  {
   "cell_type": "markdown",
   "id": "a560ea9a",
   "metadata": {},
   "source": [
    "__Code Expalaination__ <br>\n",
    "\n",
    "We first check if i.div is not None. If it's not None, we then search for the p elements with the specified class. We check if there are any p elements found before trying to access its first element's text property."
   ]
  },
  {
   "cell_type": "markdown",
   "id": "cc38586f",
   "metadata": {},
   "source": [
    "### To find Ratings"
   ]
  },
  {
   "cell_type": "code",
   "execution_count": 26,
   "id": "9257959a",
   "metadata": {},
   "outputs": [],
   "source": [
    "comment_Box_Rating=comment_Box[2].div.div.div.div.text"
   ]
  },
  {
   "cell_type": "code",
   "execution_count": 27,
   "id": "d173a66a",
   "metadata": {},
   "outputs": [],
   "source": [
    "for i in comment_Box:\n",
    "    div1 = i.div\n",
    "    if div1 is not None:\n",
    "        div2 = div1.div\n",
    "        if div2 is not None:\n",
    "            div3 = div2.div\n",
    "            if div3 is not None:\n",
    "                div4 = div3.div\n",
    "                if div4 is not None:\n",
    "                    Ratings.append(div4.text)"
   ]
  },
  {
   "cell_type": "code",
   "execution_count": 28,
   "id": "6e20a455",
   "metadata": {},
   "outputs": [
    {
     "data": {
      "text/plain": [
       "['5', '5', '5', '4', '5', '5', '5', '4', '5', '5']"
      ]
     },
     "execution_count": 28,
     "metadata": {},
     "output_type": "execute_result"
    }
   ],
   "source": [
    "Ratings"
   ]
  },
  {
   "cell_type": "markdown",
   "id": "98bbadf9",
   "metadata": {},
   "source": [
    "__Code Expalaination__ <br>\n",
    "We first check if i.div is not None. If it's not None, we then check if div1.div exists and so on until we reach the final div element. We then print the text property of that final div element. This way, we avoid trying to access div attributes of None objects, which should prevent the AttributeError from occurring."
   ]
  },
  {
   "cell_type": "markdown",
   "id": "6dc880b6",
   "metadata": {},
   "source": [
    "### Comment_header"
   ]
  },
  {
   "cell_type": "code",
   "execution_count": 29,
   "id": "c762a66b",
   "metadata": {},
   "outputs": [],
   "source": [
    "for i in comment_Box:\n",
    "    div1 = i.div\n",
    "    if div1 is not None:\n",
    "        div2 = div1.div\n",
    "        if div2 is not None:\n",
    "            p = div2.p\n",
    "            if p is not None:\n",
    "                comments.append(p.text)"
   ]
  },
  {
   "cell_type": "code",
   "execution_count": 30,
   "id": "208c3765",
   "metadata": {},
   "outputs": [
    {
     "data": {
      "text/plain": [
       "['Simply awesome',\n",
       " 'Perfect product!',\n",
       " 'Best in the market!',\n",
       " 'Value-for-money',\n",
       " 'Highly recommended',\n",
       " 'Worth every penny',\n",
       " 'Perfect product!',\n",
       " 'Pretty good',\n",
       " 'Highly recommended',\n",
       " 'Great product']"
      ]
     },
     "execution_count": 30,
     "metadata": {},
     "output_type": "execute_result"
    }
   ],
   "source": [
    "comments"
   ]
  },
  {
   "cell_type": "markdown",
   "id": "0558aadc",
   "metadata": {},
   "source": [
    "__Code Expalaination__ <br>\n",
    "We first check if i.div is not None. If it's not None, we then check if div1.div exists and finally, we check if the p element exists. We then print the text property of that p element. This way, we avoid trying to access div or p attributes of None objects, which should prevent the AttributeError from occurring."
   ]
  },
  {
   "cell_type": "markdown",
   "id": "3360c1fe",
   "metadata": {},
   "source": [
    "### People_Comments"
   ]
  },
  {
   "cell_type": "code",
   "execution_count": 31,
   "id": "707b8b16",
   "metadata": {},
   "outputs": [],
   "source": [
    "for i in comment_Box:\n",
    "    div1 = i.div\n",
    "    if div1 is not None:\n",
    "        div2 = div1.div\n",
    "        if div2 is not None:\n",
    "            div_list = div2.find_all(\"div\", {\"class\": \"\"})\n",
    "            if len(div_list) > 0:\n",
    "                div3 = div_list[0].div\n",
    "                if div3 is not None:\n",
    "                    people_comments.append(div3.text)"
   ]
  },
  {
   "cell_type": "code",
   "execution_count": 32,
   "id": "82b67d6a",
   "metadata": {},
   "outputs": [
    {
     "data": {
      "text/plain": [
       "['Really satisfied with the Product I received... It’s totally genuine and the packaging was also really good so if ur planning to buy just go for it.',\n",
       " 'Amazing phone with great cameras and better battery which gives you the best performance. I just love the camera .',\n",
       " 'Great iPhone very snappy experience as apple kind. Upgraded from iPhone 7. Pros-Camera top class - Battery top performed -Chipset no need to say as apple kind -Security as you expect from apple - Display super bright industry leading colour   accuracy and super responsive -Build quality as expect from apple sturdy  premium durable beautiful stylish. -Os most stable os in smartphone industry Cons -No 5G-Display is not based on OLED technology -Charger headphones and 1 apple stic...',\n",
       " \"I'm Really happy with the productDelivery was fast as well..it was a gift for my sister and she loved it so much.\",\n",
       " \"It's my first time to use iOS phone and I am loving my upgradation 😍😍 I love the color, I love the assebility of the phone....I need to learn more about its functionality, but as far as I have seen, it's quite easy and it has a lot of functions to work on, specially if you are a content writer or a blogger you get a lot of content creation platforms and they are really amazing. This phone not only for good quality photography but a lot of other task too.😍💯\",\n",
       " 'Previously I was using one plus 3t it was a great phone And then I decided to upgrade I am stuck between Samsung s10 plus or iPhone 11 I have seen the specs and everything were good except the display it’s somewhere between 720-1080 and it’s not even an amoled it’s an LCD display But I decided to go with iPhone because I have never used an IOS device I have Been an android user from the past 9 years I ordered IPhone 11 (128gb) product redMy experience after using 3 weeks 1. The delivery ...',\n",
       " 'Value for money5 star rating Excellent cameraBattery backup full day in single charge.Tougher and water resistant design, glossy back.The screen has excellent brightness and contrast.Apple A13 Bionic is the fastest smartphone chip on the planet.Excellent battery life, fast charging support.Stereo speakers with great quality.',\n",
       " 'I was using Iphone 6s and also Oneplus 6t. Both mobiles were perfectly alright in Photos, gaming, and smooth interface . My 6s mobile getting battery issue. thought upgrade to 11. Really like this mobile of its Internal storage (compare to 6s) , camera and its touch feeling. Its a worth buying mobile for me.',\n",
       " 'What a camera .....just awesome ..you can feel this iPhone just awesome . Good for gaming also ...try pubg in hd it’s just wow',\n",
       " 'Amazing Powerful and Durable Gadget.I’m am very happy with the camera picture quality, Amazing face id unlocked in dark room, Strong battery with perfect screen size as you can carry easily in pocket. This is my third iPhone. I shifted from android Samsung Note series to iPhone because of the strong build quality and peace of mind for next 3-4 years.Don’t think to much just go for it and I suggest you to go for minimum 128gb variant or more 256gb. I’ve attached my puppy pics and no fi...']"
      ]
     },
     "execution_count": 32,
     "metadata": {},
     "output_type": "execute_result"
    }
   ],
   "source": [
    "people_comments"
   ]
  },
  {
   "cell_type": "markdown",
   "id": "7c7a706a",
   "metadata": {},
   "source": [
    "In this updated example, we first check if i.div is not None. If it's not None, we then check if div1.div exists and search for all div elements with the specified class. We then check if the list is not empty before accessing its first element. Finally, we check if div_list[0].div and print its text property. This way, we avoid trying to access div attributes of None objects and also prevent the IndexError that occurs when trying to access the first element of an empty list."
   ]
  },
  {
   "cell_type": "markdown",
   "id": "19d57a8b",
   "metadata": {},
   "source": [
    "### Getting Reference_ Tags"
   ]
  },
  {
   "cell_type": "code",
   "execution_count": 33,
   "id": "964dbc3d",
   "metadata": {},
   "outputs": [],
   "source": [
    "for i in bigbox:\n",
    "    div1 = i.div\n",
    "    if div1 is not None:\n",
    "        div2 = div1.div\n",
    "        if div2 is not None:\n",
    "            div3 = div2.div\n",
    "            if div3 is not None:\n",
    "                a = div3.a\n",
    "                if a is not None:\n",
    "                    href_link.append(a[\"href\"])"
   ]
  },
  {
   "cell_type": "code",
   "execution_count": 34,
   "id": "88a7238a",
   "metadata": {},
   "outputs": [
    {
     "data": {
      "text/plain": [
       "['/apple-iphone-11-black-64-gb/p/itm4e5041ba101fd?pid=MOBFWQ6BXGJCEYNY&lid=LSTMOBFWQ6BXGJCEYNYZXSHRJ&marketplace=FLIPKART&q=iphone11&store=tyy%2F4io&srno=s_1_2&otracker=search&fm=organic&iid=7fa88aa6-7801-40cb-a652-5e46bcfdf834.MOBFWQ6BXGJCEYNY.SEARCH&ppt=None&ppn=None&ssid=rx96uspchc0000001677404482677&qH=d6db477051465f9a',\n",
       " '/apple-iphone-11-white-64-gb/p/itmfc6a7091eb20b?pid=MOBFWQ6BVWVEH3XE&lid=LSTMOBFWQ6BVWVEH3XEMXQMLO&marketplace=FLIPKART&q=iphone11&store=tyy%2F4io&srno=s_1_3&otracker=search&fm=organic&iid=7fa88aa6-7801-40cb-a652-5e46bcfdf834.MOBFWQ6BVWVEH3XE.SEARCH&ppt=None&ppn=None&ssid=rx96uspchc0000001677404482677&qH=d6db477051465f9a',\n",
       " '/apple-iphone-11-black-128-gb/p/itm8244e8d955aba?pid=MOBFWQ6BKRYBP5X8&lid=LSTMOBFWQ6BKRYBP5X8IBG6BS&marketplace=FLIPKART&q=iphone11&store=tyy%2F4io&srno=s_1_4&otracker=search&fm=organic&iid=7fa88aa6-7801-40cb-a652-5e46bcfdf834.MOBFWQ6BKRYBP5X8.SEARCH&ppt=None&ppn=None&ssid=rx96uspchc0000001677404482677&qH=d6db477051465f9a',\n",
       " '/apple-iphone-11-red-128-gb/p/itm8d14bd0e33a1c?pid=MOBFWQ6BEZTNK59G&lid=LSTMOBFWQ6BEZTNK59G4PTPDM&marketplace=FLIPKART&q=iphone11&store=tyy%2F4io&srno=s_1_5&otracker=search&fm=organic&iid=7fa88aa6-7801-40cb-a652-5e46bcfdf834.MOBFWQ6BEZTNK59G.SEARCH&ppt=None&ppn=None&ssid=rx96uspchc0000001677404482677&qH=d6db477051465f9a',\n",
       " '/apple-iphone-11-red-64-gb/p/itmc3935326f2feb?pid=MOBFWQ6BYYV3FCU7&lid=LSTMOBFWQ6BYYV3FCU7ZCY7Y9&marketplace=FLIPKART&q=iphone11&store=tyy%2F4io&srno=s_1_6&otracker=search&fm=organic&iid=7fa88aa6-7801-40cb-a652-5e46bcfdf834.MOBFWQ6BYYV3FCU7.SEARCH&ppt=None&ppn=None&ssid=rx96uspchc0000001677404482677&qH=d6db477051465f9a',\n",
       " '/apple-iphone-11-green-64-gb/p/itm386a85013a3d1?pid=MOBFWQ6BHPMG29QM&lid=LSTMOBFWQ6BHPMG29QMSPPOYD&marketplace=FLIPKART&q=iphone11&store=tyy%2F4io&srno=s_1_7&otracker=search&fm=organic&iid=7fa88aa6-7801-40cb-a652-5e46bcfdf834.MOBFWQ6BHPMG29QM.SEARCH&ppt=None&ppn=None&ssid=rx96uspchc0000001677404482677&qH=d6db477051465f9a',\n",
       " '/apple-iphone-11-yellow-64-gb/p/itm39b1a0ba9ddcb?pid=MOBFWQ6BWGX9VRFS&lid=LSTMOBFWQ6BWGX9VRFSWACBGI&marketplace=FLIPKART&q=iphone11&store=tyy%2F4io&srno=s_1_8&otracker=search&fm=organic&iid=7fa88aa6-7801-40cb-a652-5e46bcfdf834.MOBFWQ6BWGX9VRFS.SEARCH&ppt=None&ppn=None&ssid=rx96uspchc0000001677404482677&qH=d6db477051465f9a',\n",
       " '/apple-iphone-11-purple-64-gb/p/itm2b8d03427ddac?pid=MOBFWQ6BTFFJKGKE&lid=LSTMOBFWQ6BTFFJKGKEPGQVOJ&marketplace=FLIPKART&q=iphone11&store=tyy%2F4io&srno=s_1_9&otracker=search&fm=organic&iid=7fa88aa6-7801-40cb-a652-5e46bcfdf834.MOBFWQ6BTFFJKGKE.SEARCH&ppt=None&ppn=None&ssid=rx96uspchc0000001677404482677&qH=d6db477051465f9a',\n",
       " '/apple-iphone-11-yellow-128-gb/p/itm7030edc9e100e?pid=MOBFWQ6BWTSBJSHY&lid=LSTMOBFWQ6BWTSBJSHYJG1Q5J&marketplace=FLIPKART&q=iphone11&store=tyy%2F4io&srno=s_1_10&otracker=search&fm=organic&iid=7fa88aa6-7801-40cb-a652-5e46bcfdf834.MOBFWQ6BWTSBJSHY.SEARCH&ppt=None&ppn=None&ssid=rx96uspchc0000001677404482677&qH=d6db477051465f9a',\n",
       " '/apple-iphone-11-green-128-gb/p/itm97529bbf640ca?pid=MOBFWQ6BHBKMH4BF&lid=LSTMOBFWQ6BHBKMH4BFPOHIFL&marketplace=FLIPKART&q=iphone11&store=tyy%2F4io&srno=s_1_11&otracker=search&fm=organic&iid=7fa88aa6-7801-40cb-a652-5e46bcfdf834.MOBFWQ6BHBKMH4BF.SEARCH&ppt=None&ppn=None&ssid=rx96uspchc0000001677404482677&qH=d6db477051465f9a',\n",
       " '/apple-iphone-11-purple-128-gb/p/itmb7ca0b05522ff?pid=MOBFWQ6BEHFXGXGB&lid=LSTMOBFWQ6BEHFXGXGBIS2J2K&marketplace=FLIPKART&q=iphone11&store=tyy%2F4io&srno=s_1_12&otracker=search&fm=organic&iid=7fa88aa6-7801-40cb-a652-5e46bcfdf834.MOBFWQ6BEHFXGXGB.SEARCH&ppt=None&ppn=None&ssid=rx96uspchc0000001677404482677&qH=d6db477051465f9a',\n",
       " '/apple-iphone-6-space-grey-32-gb/p/itmetmh3hfhnxtcj?pid=MOBETMH3ZYNDPVVC&lid=LSTMOBETMH3ZYNDPVVC7BAC1S&marketplace=FLIPKART&q=iphone11&store=tyy%2F4io&srno=s_1_13&otracker=search&fm=organic&iid=7fa88aa6-7801-40cb-a652-5e46bcfdf834.MOBETMH3ZYNDPVVC.SEARCH&ppt=None&ppn=None&ssid=rx96uspchc0000001677404482677&qH=d6db477051465f9a',\n",
       " '/apple-iphone-11-pro-max-midnight-green-64-gb/p/itmab1763b5ca244?pid=MOBFKCTSRYPAQNYT&lid=LSTMOBFKCTSRYPAQNYTHKCI74&marketplace=FLIPKART&q=iphone11&store=tyy%2F4io&srno=s_1_14&otracker=search&fm=organic&iid=7fa88aa6-7801-40cb-a652-5e46bcfdf834.MOBFKCTSRYPAQNYT.SEARCH&ppt=None&ppn=None&ssid=rx96uspchc0000001677404482677&qH=d6db477051465f9a',\n",
       " '/apple-iphone-11-pro-max-space-grey-64-gb/p/itme0101031155f8?pid=MOBFKCTSKDMKCGQS&lid=LSTMOBFKCTSKDMKCGQS40HFWI&marketplace=FLIPKART&q=iphone11&store=tyy%2F4io&srno=s_1_15&otracker=search&fm=organic&iid=7fa88aa6-7801-40cb-a652-5e46bcfdf834.MOBFKCTSKDMKCGQS.SEARCH&ppt=None&ppn=None&ssid=rx96uspchc0000001677404482677&qH=d6db477051465f9a',\n",
       " '/apple-iphone-11-pro-silver-256-gb/p/itm08eae2709cac6?pid=MOBFKCTST7PU7BWR&lid=LSTMOBFKCTST7PU7BWRAQB29Z&marketplace=FLIPKART&q=iphone11&store=tyy%2F4io&srno=s_1_16&otracker=search&fm=organic&iid=7fa88aa6-7801-40cb-a652-5e46bcfdf834.MOBFKCTST7PU7BWR.SEARCH&ppt=None&ppn=None&ssid=rx96uspchc0000001677404482677&qH=d6db477051465f9a',\n",
       " '/apple-iphone-11-pro-midnight-green-64-gb/p/itm471de0d2e8474?pid=MOBFKCTSN3TG3RFJ&lid=LSTMOBFKCTSN3TG3RFJ5P8RRW&marketplace=FLIPKART&q=iphone11&store=tyy%2F4io&srno=s_1_17&otracker=search&fm=organic&iid=7fa88aa6-7801-40cb-a652-5e46bcfdf834.MOBFKCTSN3TG3RFJ.SEARCH&ppt=None&ppn=None&ssid=rx96uspchc0000001677404482677&qH=d6db477051465f9a',\n",
       " '/apple-iphone-11-pro-max-silver-64-gb/p/itm9cd54210a8047?pid=MOBFKCTSTETGYFKZ&lid=LSTMOBFKCTSTETGYFKZZHWDT6&marketplace=FLIPKART&q=iphone11&store=tyy%2F4io&srno=s_1_18&otracker=search&fm=organic&iid=7fa88aa6-7801-40cb-a652-5e46bcfdf834.MOBFKCTSTETGYFKZ.SEARCH&ppt=None&ppn=None&ssid=rx96uspchc0000001677404482677&qH=d6db477051465f9a',\n",
       " '/apple-iphone-11-pro-max-silver-256-gb/p/itm90a95d4c7bfb4?pid=MOBFKCTSVH4EWXBV&lid=LSTMOBFKCTSVH4EWXBVDOFYMD&marketplace=FLIPKART&q=iphone11&store=tyy%2F4io&srno=s_1_19&otracker=search&fm=organic&iid=7fa88aa6-7801-40cb-a652-5e46bcfdf834.MOBFKCTSVH4EWXBV.SEARCH&ppt=None&ppn=None&ssid=rx96uspchc0000001677404482677&qH=d6db477051465f9a',\n",
       " '/apple-iphone-11-pro-space-grey-256-gb/p/itmbecef22a95790?pid=MOBFKCTSWGYSAS9X&lid=LSTMOBFKCTSWGYSAS9X2RHASU&marketplace=FLIPKART&q=iphone11&store=tyy%2F4io&srno=s_1_20&otracker=search&fm=organic&iid=7fa88aa6-7801-40cb-a652-5e46bcfdf834.MOBFKCTSWGYSAS9X.SEARCH&ppt=None&ppn=None&ssid=rx96uspchc0000001677404482677&qH=d6db477051465f9a',\n",
       " '/apple-iphone-11-pro-max-gold-64-gb/p/itm6ef18218efdf6?pid=MOBFKCTSAPAYNSGG&lid=LSTMOBFKCTSAPAYNSGGKWDGRM&marketplace=FLIPKART&q=iphone11&store=tyy%2F4io&srno=s_1_21&otracker=search&fm=organic&iid=7fa88aa6-7801-40cb-a652-5e46bcfdf834.MOBFKCTSAPAYNSGG.SEARCH&ppt=None&ppn=None&ssid=rx96uspchc0000001677404482677&qH=d6db477051465f9a',\n",
       " '/apple-iphone-11-pro-gold-256-gb/p/itm2f0572b22cfc6?pid=MOBFKCTS8EGRZSAN&lid=LSTMOBFKCTS8EGRZSANWZFTRD&marketplace=FLIPKART&q=iphone11&store=tyy%2F4io&srno=s_1_22&otracker=search&fm=organic&iid=7fa88aa6-7801-40cb-a652-5e46bcfdf834.MOBFKCTS8EGRZSAN.SEARCH&ppt=None&ppn=None&ssid=rx96uspchc0000001677404482677&qH=d6db477051465f9a',\n",
       " '/apple-iphone-11-pro-max-silver-512-gb/p/itmd4aeaf1585645?pid=MOBFKCTSGQWSAKDG&lid=LSTMOBFKCTSGQWSAKDGBKDFSB&marketplace=FLIPKART&q=iphone11&store=tyy%2F4io&srno=s_1_23&otracker=search&fm=organic&iid=7fa88aa6-7801-40cb-a652-5e46bcfdf834.MOBFKCTSGQWSAKDG.SEARCH&ppt=None&ppn=None&ssid=rx96uspchc0000001677404482677&qH=d6db477051465f9a',\n",
       " '/apple-iphone-11-pro-midnight-green-512-gb/p/itm0bdd954387ca9?pid=MOBFKCTSSJCWYGCC&lid=LSTMOBFKCTSSJCWYGCCVRNYWA&marketplace=FLIPKART&q=iphone11&store=tyy%2F4io&srno=s_1_24&otracker=search&fm=organic&iid=7fa88aa6-7801-40cb-a652-5e46bcfdf834.MOBFKCTSSJCWYGCC.SEARCH&ppt=None&ppn=None&ssid=rx96uspchc0000001677404482677&qH=d6db477051465f9a']"
      ]
     },
     "execution_count": 34,
     "metadata": {},
     "output_type": "execute_result"
    }
   ],
   "source": [
    "href_link"
   ]
  },
  {
   "cell_type": "markdown",
   "id": "274def74",
   "metadata": {},
   "source": [
    "__Code Expalaination__ <br>\n",
    "We first check if i.div is not None. If it's not None, we then check if div1.div and div2.div exists. We then check if the a element exists and print its href attribute. This way, we avoid trying to access a attributes of None objects, which should prevent the AttributeError from occurring."
   ]
  },
  {
   "cell_type": "markdown",
   "id": "89e54410",
   "metadata": {},
   "source": [
    "### Getting Images of Feedback"
   ]
  },
  {
   "cell_type": "code",
   "execution_count": 40,
   "id": "1b9c5eba",
   "metadata": {
    "scrolled": true
   },
   "outputs": [
    {
     "ename": "AttributeError",
     "evalue": "'NoneType' object has no attribute 'div'",
     "output_type": "error",
     "traceback": [
      "\u001b[1;31m---------------------------------------------------------------------------\u001b[0m",
      "\u001b[1;31mAttributeError\u001b[0m                            Traceback (most recent call last)",
      "Input \u001b[1;32mIn [40]\u001b[0m, in \u001b[0;36m<cell line: 1>\u001b[1;34m()\u001b[0m\n\u001b[0;32m      1\u001b[0m \u001b[38;5;28;01mfor\u001b[39;00m i \u001b[38;5;129;01min\u001b[39;00m comment_Box:\n\u001b[1;32m----> 2\u001b[0m     image_urls\u001b[38;5;241m.\u001b[39mappend(\u001b[43mi\u001b[49m\u001b[38;5;241;43m.\u001b[39;49m\u001b[43mdiv\u001b[49m\u001b[38;5;241;43m.\u001b[39;49m\u001b[43mdiv\u001b[49m\u001b[38;5;241m.\u001b[39mdiv\u001b[38;5;241m.\u001b[39mdiv\u001b[38;5;241m.\u001b[39mimg[\u001b[38;5;124m'\u001b[39m\u001b[38;5;124msrc\u001b[39m\u001b[38;5;124m'\u001b[39m])\n",
      "\u001b[1;31mAttributeError\u001b[0m: 'NoneType' object has no attribute 'div'"
     ]
    }
   ],
   "source": [
    "for i in comment_Box:\n",
    "    image_urls.append(i.div.div.div.div.img['src'])"
   ]
  },
  {
   "cell_type": "code",
   "execution_count": 41,
   "id": "499c66af",
   "metadata": {},
   "outputs": [
    {
     "data": {
      "text/plain": [
       "['data:image/svg+xml;base64,PHN2ZyB4bWxucz0iaHR0cDovL3d3dy53My5vcmcvMjAwMC9zdmciIHdpZHRoPSIxMyIgaGVpZ2h0PSIxMiI+PHBhdGggZmlsbD0iI0ZGRiIgZD0iTTYuNSA5LjQzOWwtMy42NzQgMi4yMy45NC00LjI2LTMuMjEtMi44ODMgNC4yNTQtLjQwNEw2LjUuMTEybDEuNjkgNC4wMSA0LjI1NC40MDQtMy4yMSAyLjg4Mi45NCA0LjI2eiIvPjwvc3ZnPg==',\n",
       " 'data:image/svg+xml;base64,PHN2ZyB4bWxucz0iaHR0cDovL3d3dy53My5vcmcvMjAwMC9zdmciIHdpZHRoPSIxMyIgaGVpZ2h0PSIxMiI+PHBhdGggZmlsbD0iI0ZGRiIgZD0iTTYuNSA5LjQzOWwtMy42NzQgMi4yMy45NC00LjI2LTMuMjEtMi44ODMgNC4yNTQtLjQwNEw2LjUuMTEybDEuNjkgNC4wMSA0LjI1NC40MDQtMy4yMSAyLjg4Mi45NCA0LjI2eiIvPjwvc3ZnPg==',\n",
       " 'data:image/svg+xml;base64,PHN2ZyB4bWxucz0iaHR0cDovL3d3dy53My5vcmcvMjAwMC9zdmciIHdpZHRoPSIxMyIgaGVpZ2h0PSIxMiI+PHBhdGggZmlsbD0iI0ZGRiIgZD0iTTYuNSA5LjQzOWwtMy42NzQgMi4yMy45NC00LjI2LTMuMjEtMi44ODMgNC4yNTQtLjQwNEw2LjUuMTEybDEuNjkgNC4wMSA0LjI1NC40MDQtMy4yMSAyLjg4Mi45NCA0LjI2eiIvPjwvc3ZnPg==',\n",
       " 'data:image/svg+xml;base64,PHN2ZyB4bWxucz0iaHR0cDovL3d3dy53My5vcmcvMjAwMC9zdmciIHdpZHRoPSIxMyIgaGVpZ2h0PSIxMiI+PHBhdGggZmlsbD0iI0ZGRiIgZD0iTTYuNSA5LjQzOWwtMy42NzQgMi4yMy45NC00LjI2LTMuMjEtMi44ODMgNC4yNTQtLjQwNEw2LjUuMTEybDEuNjkgNC4wMSA0LjI1NC40MDQtMy4yMSAyLjg4Mi45NCA0LjI2eiIvPjwvc3ZnPg==',\n",
       " 'data:image/svg+xml;base64,PHN2ZyB4bWxucz0iaHR0cDovL3d3dy53My5vcmcvMjAwMC9zdmciIHdpZHRoPSIxMyIgaGVpZ2h0PSIxMiI+PHBhdGggZmlsbD0iI0ZGRiIgZD0iTTYuNSA5LjQzOWwtMy42NzQgMi4yMy45NC00LjI2LTMuMjEtMi44ODMgNC4yNTQtLjQwNEw2LjUuMTEybDEuNjkgNC4wMSA0LjI1NC40MDQtMy4yMSAyLjg4Mi45NCA0LjI2eiIvPjwvc3ZnPg==',\n",
       " 'data:image/svg+xml;base64,PHN2ZyB4bWxucz0iaHR0cDovL3d3dy53My5vcmcvMjAwMC9zdmciIHdpZHRoPSIxMyIgaGVpZ2h0PSIxMiI+PHBhdGggZmlsbD0iI0ZGRiIgZD0iTTYuNSA5LjQzOWwtMy42NzQgMi4yMy45NC00LjI2LTMuMjEtMi44ODMgNC4yNTQtLjQwNEw2LjUuMTEybDEuNjkgNC4wMSA0LjI1NC40MDQtMy4yMSAyLjg4Mi45NCA0LjI2eiIvPjwvc3ZnPg==',\n",
       " 'data:image/svg+xml;base64,PHN2ZyB4bWxucz0iaHR0cDovL3d3dy53My5vcmcvMjAwMC9zdmciIHdpZHRoPSIxMyIgaGVpZ2h0PSIxMiI+PHBhdGggZmlsbD0iI0ZGRiIgZD0iTTYuNSA5LjQzOWwtMy42NzQgMi4yMy45NC00LjI2LTMuMjEtMi44ODMgNC4yNTQtLjQwNEw2LjUuMTEybDEuNjkgNC4wMSA0LjI1NC40MDQtMy4yMSAyLjg4Mi45NCA0LjI2eiIvPjwvc3ZnPg==',\n",
       " 'data:image/svg+xml;base64,PHN2ZyB4bWxucz0iaHR0cDovL3d3dy53My5vcmcvMjAwMC9zdmciIHdpZHRoPSIxMyIgaGVpZ2h0PSIxMiI+PHBhdGggZmlsbD0iI0ZGRiIgZD0iTTYuNSA5LjQzOWwtMy42NzQgMi4yMy45NC00LjI2LTMuMjEtMi44ODMgNC4yNTQtLjQwNEw2LjUuMTEybDEuNjkgNC4wMSA0LjI1NC40MDQtMy4yMSAyLjg4Mi45NCA0LjI2eiIvPjwvc3ZnPg==',\n",
       " 'data:image/svg+xml;base64,PHN2ZyB4bWxucz0iaHR0cDovL3d3dy53My5vcmcvMjAwMC9zdmciIHdpZHRoPSIxMyIgaGVpZ2h0PSIxMiI+PHBhdGggZmlsbD0iI0ZGRiIgZD0iTTYuNSA5LjQzOWwtMy42NzQgMi4yMy45NC00LjI2LTMuMjEtMi44ODMgNC4yNTQtLjQwNEw2LjUuMTEybDEuNjkgNC4wMSA0LjI1NC40MDQtMy4yMSAyLjg4Mi45NCA0LjI2eiIvPjwvc3ZnPg==',\n",
       " 'data:image/svg+xml;base64,PHN2ZyB4bWxucz0iaHR0cDovL3d3dy53My5vcmcvMjAwMC9zdmciIHdpZHRoPSIxMyIgaGVpZ2h0PSIxMiI+PHBhdGggZmlsbD0iI0ZGRiIgZD0iTTYuNSA5LjQzOWwtMy42NzQgMi4yMy45NC00LjI2LTMuMjEtMi44ODMgNC4yNTQtLjQwNEw2LjUuMTEybDEuNjkgNC4wMSA0LjI1NC40MDQtMy4yMSAyLjg4Mi45NCA0LjI2eiIvPjwvc3ZnPg==',\n",
       " 'data:image/svg+xml;base64,PHN2ZyB4bWxucz0iaHR0cDovL3d3dy53My5vcmcvMjAwMC9zdmciIHdpZHRoPSIxMyIgaGVpZ2h0PSIxMiI+PHBhdGggZmlsbD0iI0ZGRiIgZD0iTTYuNSA5LjQzOWwtMy42NzQgMi4yMy45NC00LjI2LTMuMjEtMi44ODMgNC4yNTQtLjQwNEw2LjUuMTEybDEuNjkgNC4wMSA0LjI1NC40MDQtMy4yMSAyLjg4Mi45NCA0LjI2eiIvPjwvc3ZnPg==',\n",
       " 'data:image/svg+xml;base64,PHN2ZyB4bWxucz0iaHR0cDovL3d3dy53My5vcmcvMjAwMC9zdmciIHdpZHRoPSIxMyIgaGVpZ2h0PSIxMiI+PHBhdGggZmlsbD0iI0ZGRiIgZD0iTTYuNSA5LjQzOWwtMy42NzQgMi4yMy45NC00LjI2LTMuMjEtMi44ODMgNC4yNTQtLjQwNEw2LjUuMTEybDEuNjkgNC4wMSA0LjI1NC40MDQtMy4yMSAyLjg4Mi45NCA0LjI2eiIvPjwvc3ZnPg==',\n",
       " 'data:image/svg+xml;base64,PHN2ZyB4bWxucz0iaHR0cDovL3d3dy53My5vcmcvMjAwMC9zdmciIHdpZHRoPSIxMyIgaGVpZ2h0PSIxMiI+PHBhdGggZmlsbD0iI0ZGRiIgZD0iTTYuNSA5LjQzOWwtMy42NzQgMi4yMy45NC00LjI2LTMuMjEtMi44ODMgNC4yNTQtLjQwNEw2LjUuMTEybDEuNjkgNC4wMSA0LjI1NC40MDQtMy4yMSAyLjg4Mi45NCA0LjI2eiIvPjwvc3ZnPg==',\n",
       " 'data:image/svg+xml;base64,PHN2ZyB4bWxucz0iaHR0cDovL3d3dy53My5vcmcvMjAwMC9zdmciIHdpZHRoPSIxMyIgaGVpZ2h0PSIxMiI+PHBhdGggZmlsbD0iI0ZGRiIgZD0iTTYuNSA5LjQzOWwtMy42NzQgMi4yMy45NC00LjI2LTMuMjEtMi44ODMgNC4yNTQtLjQwNEw2LjUuMTEybDEuNjkgNC4wMSA0LjI1NC40MDQtMy4yMSAyLjg4Mi45NCA0LjI2eiIvPjwvc3ZnPg==',\n",
       " 'data:image/svg+xml;base64,PHN2ZyB4bWxucz0iaHR0cDovL3d3dy53My5vcmcvMjAwMC9zdmciIHdpZHRoPSIxMyIgaGVpZ2h0PSIxMiI+PHBhdGggZmlsbD0iI0ZGRiIgZD0iTTYuNSA5LjQzOWwtMy42NzQgMi4yMy45NC00LjI2LTMuMjEtMi44ODMgNC4yNTQtLjQwNEw2LjUuMTEybDEuNjkgNC4wMSA0LjI1NC40MDQtMy4yMSAyLjg4Mi45NCA0LjI2eiIvPjwvc3ZnPg==',\n",
       " 'data:image/svg+xml;base64,PHN2ZyB4bWxucz0iaHR0cDovL3d3dy53My5vcmcvMjAwMC9zdmciIHdpZHRoPSIxMyIgaGVpZ2h0PSIxMiI+PHBhdGggZmlsbD0iI0ZGRiIgZD0iTTYuNSA5LjQzOWwtMy42NzQgMi4yMy45NC00LjI2LTMuMjEtMi44ODMgNC4yNTQtLjQwNEw2LjUuMTEybDEuNjkgNC4wMSA0LjI1NC40MDQtMy4yMSAyLjg4Mi45NCA0LjI2eiIvPjwvc3ZnPg==',\n",
       " 'data:image/svg+xml;base64,PHN2ZyB4bWxucz0iaHR0cDovL3d3dy53My5vcmcvMjAwMC9zdmciIHdpZHRoPSIxMyIgaGVpZ2h0PSIxMiI+PHBhdGggZmlsbD0iI0ZGRiIgZD0iTTYuNSA5LjQzOWwtMy42NzQgMi4yMy45NC00LjI2LTMuMjEtMi44ODMgNC4yNTQtLjQwNEw2LjUuMTEybDEuNjkgNC4wMSA0LjI1NC40MDQtMy4yMSAyLjg4Mi45NCA0LjI2eiIvPjwvc3ZnPg==',\n",
       " 'data:image/svg+xml;base64,PHN2ZyB4bWxucz0iaHR0cDovL3d3dy53My5vcmcvMjAwMC9zdmciIHdpZHRoPSIxMyIgaGVpZ2h0PSIxMiI+PHBhdGggZmlsbD0iI0ZGRiIgZD0iTTYuNSA5LjQzOWwtMy42NzQgMi4yMy45NC00LjI2LTMuMjEtMi44ODMgNC4yNTQtLjQwNEw2LjUuMTEybDEuNjkgNC4wMSA0LjI1NC40MDQtMy4yMSAyLjg4Mi45NCA0LjI2eiIvPjwvc3ZnPg==',\n",
       " 'data:image/svg+xml;base64,PHN2ZyB4bWxucz0iaHR0cDovL3d3dy53My5vcmcvMjAwMC9zdmciIHdpZHRoPSIxMyIgaGVpZ2h0PSIxMiI+PHBhdGggZmlsbD0iI0ZGRiIgZD0iTTYuNSA5LjQzOWwtMy42NzQgMi4yMy45NC00LjI2LTMuMjEtMi44ODMgNC4yNTQtLjQwNEw2LjUuMTEybDEuNjkgNC4wMSA0LjI1NC40MDQtMy4yMSAyLjg4Mi45NCA0LjI2eiIvPjwvc3ZnPg==',\n",
       " 'data:image/svg+xml;base64,PHN2ZyB4bWxucz0iaHR0cDovL3d3dy53My5vcmcvMjAwMC9zdmciIHdpZHRoPSIxMyIgaGVpZ2h0PSIxMiI+PHBhdGggZmlsbD0iI0ZGRiIgZD0iTTYuNSA5LjQzOWwtMy42NzQgMi4yMy45NC00LjI2LTMuMjEtMi44ODMgNC4yNTQtLjQwNEw2LjUuMTEybDEuNjkgNC4wMSA0LjI1NC40MDQtMy4yMSAyLjg4Mi45NCA0LjI2eiIvPjwvc3ZnPg==',\n",
       " 'data:image/svg+xml;base64,PHN2ZyB4bWxucz0iaHR0cDovL3d3dy53My5vcmcvMjAwMC9zdmciIHdpZHRoPSIxMyIgaGVpZ2h0PSIxMiI+PHBhdGggZmlsbD0iI0ZGRiIgZD0iTTYuNSA5LjQzOWwtMy42NzQgMi4yMy45NC00LjI2LTMuMjEtMi44ODMgNC4yNTQtLjQwNEw2LjUuMTEybDEuNjkgNC4wMSA0LjI1NC40MDQtMy4yMSAyLjg4Mi45NCA0LjI2eiIvPjwvc3ZnPg==',\n",
       " 'data:image/svg+xml;base64,PHN2ZyB4bWxucz0iaHR0cDovL3d3dy53My5vcmcvMjAwMC9zdmciIHdpZHRoPSIxMyIgaGVpZ2h0PSIxMiI+PHBhdGggZmlsbD0iI0ZGRiIgZD0iTTYuNSA5LjQzOWwtMy42NzQgMi4yMy45NC00LjI2LTMuMjEtMi44ODMgNC4yNTQtLjQwNEw2LjUuMTEybDEuNjkgNC4wMSA0LjI1NC40MDQtMy4yMSAyLjg4Mi45NCA0LjI2eiIvPjwvc3ZnPg==',\n",
       " 'data:image/svg+xml;base64,PHN2ZyB4bWxucz0iaHR0cDovL3d3dy53My5vcmcvMjAwMC9zdmciIHdpZHRoPSIxMyIgaGVpZ2h0PSIxMiI+PHBhdGggZmlsbD0iI0ZGRiIgZD0iTTYuNSA5LjQzOWwtMy42NzQgMi4yMy45NC00LjI2LTMuMjEtMi44ODMgNC4yNTQtLjQwNEw2LjUuMTEybDEuNjkgNC4wMSA0LjI1NC40MDQtMy4yMSAyLjg4Mi45NCA0LjI2eiIvPjwvc3ZnPg==',\n",
       " 'data:image/svg+xml;base64,PHN2ZyB4bWxucz0iaHR0cDovL3d3dy53My5vcmcvMjAwMC9zdmciIHdpZHRoPSIxMyIgaGVpZ2h0PSIxMiI+PHBhdGggZmlsbD0iI0ZGRiIgZD0iTTYuNSA5LjQzOWwtMy42NzQgMi4yMy45NC00LjI2LTMuMjEtMi44ODMgNC4yNTQtLjQwNEw2LjUuMTEybDEuNjkgNC4wMSA0LjI1NC40MDQtMy4yMSAyLjg4Mi45NCA0LjI2eiIvPjwvc3ZnPg==',\n",
       " 'data:image/svg+xml;base64,PHN2ZyB4bWxucz0iaHR0cDovL3d3dy53My5vcmcvMjAwMC9zdmciIHdpZHRoPSIxMyIgaGVpZ2h0PSIxMiI+PHBhdGggZmlsbD0iI0ZGRiIgZD0iTTYuNSA5LjQzOWwtMy42NzQgMi4yMy45NC00LjI2LTMuMjEtMi44ODMgNC4yNTQtLjQwNEw2LjUuMTEybDEuNjkgNC4wMSA0LjI1NC40MDQtMy4yMSAyLjg4Mi45NCA0LjI2eiIvPjwvc3ZnPg==',\n",
       " 'data:image/svg+xml;base64,PHN2ZyB4bWxucz0iaHR0cDovL3d3dy53My5vcmcvMjAwMC9zdmciIHdpZHRoPSIxMyIgaGVpZ2h0PSIxMiI+PHBhdGggZmlsbD0iI0ZGRiIgZD0iTTYuNSA5LjQzOWwtMy42NzQgMi4yMy45NC00LjI2LTMuMjEtMi44ODMgNC4yNTQtLjQwNEw2LjUuMTEybDEuNjkgNC4wMSA0LjI1NC40MDQtMy4yMSAyLjg4Mi45NCA0LjI2eiIvPjwvc3ZnPg==',\n",
       " 'data:image/svg+xml;base64,PHN2ZyB4bWxucz0iaHR0cDovL3d3dy53My5vcmcvMjAwMC9zdmciIHdpZHRoPSIxMyIgaGVpZ2h0PSIxMiI+PHBhdGggZmlsbD0iI0ZGRiIgZD0iTTYuNSA5LjQzOWwtMy42NzQgMi4yMy45NC00LjI2LTMuMjEtMi44ODMgNC4yNTQtLjQwNEw2LjUuMTEybDEuNjkgNC4wMSA0LjI1NC40MDQtMy4yMSAyLjg4Mi45NCA0LjI2eiIvPjwvc3ZnPg==',\n",
       " 'data:image/svg+xml;base64,PHN2ZyB4bWxucz0iaHR0cDovL3d3dy53My5vcmcvMjAwMC9zdmciIHdpZHRoPSIxMyIgaGVpZ2h0PSIxMiI+PHBhdGggZmlsbD0iI0ZGRiIgZD0iTTYuNSA5LjQzOWwtMy42NzQgMi4yMy45NC00LjI2LTMuMjEtMi44ODMgNC4yNTQtLjQwNEw2LjUuMTEybDEuNjkgNC4wMSA0LjI1NC40MDQtMy4yMSAyLjg4Mi45NCA0LjI2eiIvPjwvc3ZnPg==',\n",
       " 'data:image/svg+xml;base64,PHN2ZyB4bWxucz0iaHR0cDovL3d3dy53My5vcmcvMjAwMC9zdmciIHdpZHRoPSIxMyIgaGVpZ2h0PSIxMiI+PHBhdGggZmlsbD0iI0ZGRiIgZD0iTTYuNSA5LjQzOWwtMy42NzQgMi4yMy45NC00LjI2LTMuMjEtMi44ODMgNC4yNTQtLjQwNEw2LjUuMTEybDEuNjkgNC4wMSA0LjI1NC40MDQtMy4yMSAyLjg4Mi45NCA0LjI2eiIvPjwvc3ZnPg==',\n",
       " 'data:image/svg+xml;base64,PHN2ZyB4bWxucz0iaHR0cDovL3d3dy53My5vcmcvMjAwMC9zdmciIHdpZHRoPSIxMyIgaGVpZ2h0PSIxMiI+PHBhdGggZmlsbD0iI0ZGRiIgZD0iTTYuNSA5LjQzOWwtMy42NzQgMi4yMy45NC00LjI2LTMuMjEtMi44ODMgNC4yNTQtLjQwNEw2LjUuMTEybDEuNjkgNC4wMSA0LjI1NC40MDQtMy4yMSAyLjg4Mi45NCA0LjI2eiIvPjwvc3ZnPg==',\n",
       " 'data:image/svg+xml;base64,PHN2ZyB4bWxucz0iaHR0cDovL3d3dy53My5vcmcvMjAwMC9zdmciIHdpZHRoPSIxMyIgaGVpZ2h0PSIxMiI+PHBhdGggZmlsbD0iI0ZGRiIgZD0iTTYuNSA5LjQzOWwtMy42NzQgMi4yMy45NC00LjI2LTMuMjEtMi44ODMgNC4yNTQtLjQwNEw2LjUuMTEybDEuNjkgNC4wMSA0LjI1NC40MDQtMy4yMSAyLjg4Mi45NCA0LjI2eiIvPjwvc3ZnPg==',\n",
       " 'data:image/svg+xml;base64,PHN2ZyB4bWxucz0iaHR0cDovL3d3dy53My5vcmcvMjAwMC9zdmciIHdpZHRoPSIxMyIgaGVpZ2h0PSIxMiI+PHBhdGggZmlsbD0iI0ZGRiIgZD0iTTYuNSA5LjQzOWwtMy42NzQgMi4yMy45NC00LjI2LTMuMjEtMi44ODMgNC4yNTQtLjQwNEw2LjUuMTEybDEuNjkgNC4wMSA0LjI1NC40MDQtMy4yMSAyLjg4Mi45NCA0LjI2eiIvPjwvc3ZnPg==',\n",
       " 'data:image/svg+xml;base64,PHN2ZyB4bWxucz0iaHR0cDovL3d3dy53My5vcmcvMjAwMC9zdmciIHdpZHRoPSIxMyIgaGVpZ2h0PSIxMiI+PHBhdGggZmlsbD0iI0ZGRiIgZD0iTTYuNSA5LjQzOWwtMy42NzQgMi4yMy45NC00LjI2LTMuMjEtMi44ODMgNC4yNTQtLjQwNEw2LjUuMTEybDEuNjkgNC4wMSA0LjI1NC40MDQtMy4yMSAyLjg4Mi45NCA0LjI2eiIvPjwvc3ZnPg==',\n",
       " 'data:image/svg+xml;base64,PHN2ZyB4bWxucz0iaHR0cDovL3d3dy53My5vcmcvMjAwMC9zdmciIHdpZHRoPSIxMyIgaGVpZ2h0PSIxMiI+PHBhdGggZmlsbD0iI0ZGRiIgZD0iTTYuNSA5LjQzOWwtMy42NzQgMi4yMy45NC00LjI2LTMuMjEtMi44ODMgNC4yNTQtLjQwNEw2LjUuMTEybDEuNjkgNC4wMSA0LjI1NC40MDQtMy4yMSAyLjg4Mi45NCA0LjI2eiIvPjwvc3ZnPg==',\n",
       " 'data:image/svg+xml;base64,PHN2ZyB4bWxucz0iaHR0cDovL3d3dy53My5vcmcvMjAwMC9zdmciIHdpZHRoPSIxMyIgaGVpZ2h0PSIxMiI+PHBhdGggZmlsbD0iI0ZGRiIgZD0iTTYuNSA5LjQzOWwtMy42NzQgMi4yMy45NC00LjI2LTMuMjEtMi44ODMgNC4yNTQtLjQwNEw2LjUuMTEybDEuNjkgNC4wMSA0LjI1NC40MDQtMy4yMSAyLjg4Mi45NCA0LjI2eiIvPjwvc3ZnPg==',\n",
       " 'data:image/svg+xml;base64,PHN2ZyB4bWxucz0iaHR0cDovL3d3dy53My5vcmcvMjAwMC9zdmciIHdpZHRoPSIxMyIgaGVpZ2h0PSIxMiI+PHBhdGggZmlsbD0iI0ZGRiIgZD0iTTYuNSA5LjQzOWwtMy42NzQgMi4yMy45NC00LjI2LTMuMjEtMi44ODMgNC4yNTQtLjQwNEw2LjUuMTEybDEuNjkgNC4wMSA0LjI1NC40MDQtMy4yMSAyLjg4Mi45NCA0LjI2eiIvPjwvc3ZnPg==',\n",
       " 'data:image/svg+xml;base64,PHN2ZyB4bWxucz0iaHR0cDovL3d3dy53My5vcmcvMjAwMC9zdmciIHdpZHRoPSIxMyIgaGVpZ2h0PSIxMiI+PHBhdGggZmlsbD0iI0ZGRiIgZD0iTTYuNSA5LjQzOWwtMy42NzQgMi4yMy45NC00LjI2LTMuMjEtMi44ODMgNC4yNTQtLjQwNEw2LjUuMTEybDEuNjkgNC4wMSA0LjI1NC40MDQtMy4yMSAyLjg4Mi45NCA0LjI2eiIvPjwvc3ZnPg==',\n",
       " 'data:image/svg+xml;base64,PHN2ZyB4bWxucz0iaHR0cDovL3d3dy53My5vcmcvMjAwMC9zdmciIHdpZHRoPSIxMyIgaGVpZ2h0PSIxMiI+PHBhdGggZmlsbD0iI0ZGRiIgZD0iTTYuNSA5LjQzOWwtMy42NzQgMi4yMy45NC00LjI2LTMuMjEtMi44ODMgNC4yNTQtLjQwNEw2LjUuMTEybDEuNjkgNC4wMSA0LjI1NC40MDQtMy4yMSAyLjg4Mi45NCA0LjI2eiIvPjwvc3ZnPg==',\n",
       " 'data:image/svg+xml;base64,PHN2ZyB4bWxucz0iaHR0cDovL3d3dy53My5vcmcvMjAwMC9zdmciIHdpZHRoPSIxMyIgaGVpZ2h0PSIxMiI+PHBhdGggZmlsbD0iI0ZGRiIgZD0iTTYuNSA5LjQzOWwtMy42NzQgMi4yMy45NC00LjI2LTMuMjEtMi44ODMgNC4yNTQtLjQwNEw2LjUuMTEybDEuNjkgNC4wMSA0LjI1NC40MDQtMy4yMSAyLjg4Mi45NCA0LjI2eiIvPjwvc3ZnPg==',\n",
       " 'data:image/svg+xml;base64,PHN2ZyB4bWxucz0iaHR0cDovL3d3dy53My5vcmcvMjAwMC9zdmciIHdpZHRoPSIxMyIgaGVpZ2h0PSIxMiI+PHBhdGggZmlsbD0iI0ZGRiIgZD0iTTYuNSA5LjQzOWwtMy42NzQgMi4yMy45NC00LjI2LTMuMjEtMi44ODMgNC4yNTQtLjQwNEw2LjUuMTEybDEuNjkgNC4wMSA0LjI1NC40MDQtMy4yMSAyLjg4Mi45NCA0LjI2eiIvPjwvc3ZnPg==']"
      ]
     },
     "execution_count": 41,
     "metadata": {},
     "output_type": "execute_result"
    }
   ],
   "source": [
    "image_urls"
   ]
  },
  {
   "cell_type": "markdown",
   "id": "753ff8e3",
   "metadata": {},
   "source": [
    "### Storing Data in CSV_file"
   ]
  },
  {
   "cell_type": "code",
   "execution_count": 42,
   "id": "96b301a7",
   "metadata": {},
   "outputs": [],
   "source": [
    "# Store the extracted comments, names, in a list\n",
    "data = []\n",
    "for i in range(len(comments)):\n",
    "    data.append([names[i], comments[i],Ratings[i],href_link[i],people_comments[i],image_urls[i]])"
   ]
  },
  {
   "cell_type": "code",
   "execution_count": 43,
   "id": "65cedeaf",
   "metadata": {},
   "outputs": [],
   "source": [
    "import csv\n",
    "import sys\n",
    "\n",
    "# Specify the encoding to be used by the csv module\n",
    "csv.field_size_limit(100000000)\n",
    "\n",
    "# Write the data to a csv file\n",
    "with open('Data2.csv', 'w', newline='', encoding='utf-8') as csvfile:\n",
    "    writer = csv.writer(csvfile)\n",
    "    writer.writerow(['Name', 'Comments', 'Ratings','Href_link','People_comments','image_urls'])\n",
    "    for row in data:\n",
    "        writer.writerow(row)"
   ]
  },
  {
   "cell_type": "markdown",
   "id": "8a9b40cc",
   "metadata": {},
   "source": [
    "#### To See our data is stored or not"
   ]
  },
  {
   "cell_type": "code",
   "execution_count": 44,
   "id": "359d72d9",
   "metadata": {},
   "outputs": [],
   "source": [
    "import pandas as pd"
   ]
  },
  {
   "cell_type": "code",
   "execution_count": 45,
   "id": "975b5f5e",
   "metadata": {},
   "outputs": [
    {
     "data": {
      "text/html": [
       "<div>\n",
       "<style scoped>\n",
       "    .dataframe tbody tr th:only-of-type {\n",
       "        vertical-align: middle;\n",
       "    }\n",
       "\n",
       "    .dataframe tbody tr th {\n",
       "        vertical-align: top;\n",
       "    }\n",
       "\n",
       "    .dataframe thead th {\n",
       "        text-align: right;\n",
       "    }\n",
       "</style>\n",
       "<table border=\"1\" class=\"dataframe\">\n",
       "  <thead>\n",
       "    <tr style=\"text-align: right;\">\n",
       "      <th></th>\n",
       "      <th>Name</th>\n",
       "      <th>Comments</th>\n",
       "      <th>Ratings</th>\n",
       "      <th>Href_link</th>\n",
       "      <th>People_comments</th>\n",
       "      <th>image_urls</th>\n",
       "    </tr>\n",
       "  </thead>\n",
       "  <tbody>\n",
       "    <tr>\n",
       "      <th>0</th>\n",
       "      <td>Flipkart Customer</td>\n",
       "      <td>Simply awesome</td>\n",
       "      <td>5</td>\n",
       "      <td>/apple-iphone-11-black-64-gb/p/itm4e5041ba101f...</td>\n",
       "      <td>Really satisfied with the Product I received.....</td>\n",
       "      <td>data:image/svg+xml;base64,PHN2ZyB4bWxucz0iaHR0...</td>\n",
       "    </tr>\n",
       "    <tr>\n",
       "      <th>1</th>\n",
       "      <td>Flipkart Customer</td>\n",
       "      <td>Perfect product!</td>\n",
       "      <td>5</td>\n",
       "      <td>/apple-iphone-11-white-64-gb/p/itmfc6a7091eb20...</td>\n",
       "      <td>Amazing phone with great cameras and better ba...</td>\n",
       "      <td>data:image/svg+xml;base64,PHN2ZyB4bWxucz0iaHR0...</td>\n",
       "    </tr>\n",
       "    <tr>\n",
       "      <th>2</th>\n",
       "      <td>Manish Raghuvanshi</td>\n",
       "      <td>Best in the market!</td>\n",
       "      <td>5</td>\n",
       "      <td>/apple-iphone-11-black-128-gb/p/itm8244e8d955a...</td>\n",
       "      <td>Great iPhone very snappy experience as apple k...</td>\n",
       "      <td>data:image/svg+xml;base64,PHN2ZyB4bWxucz0iaHR0...</td>\n",
       "    </tr>\n",
       "    <tr>\n",
       "      <th>3</th>\n",
       "      <td>George Haokip</td>\n",
       "      <td>Value-for-money</td>\n",
       "      <td>4</td>\n",
       "      <td>/apple-iphone-11-red-128-gb/p/itm8d14bd0e33a1c...</td>\n",
       "      <td>I'm Really happy with the productDelivery was ...</td>\n",
       "      <td>data:image/svg+xml;base64,PHN2ZyB4bWxucz0iaHR0...</td>\n",
       "    </tr>\n",
       "    <tr>\n",
       "      <th>4</th>\n",
       "      <td>Jimly  Gogoi</td>\n",
       "      <td>Highly recommended</td>\n",
       "      <td>5</td>\n",
       "      <td>/apple-iphone-11-red-64-gb/p/itmc3935326f2feb?...</td>\n",
       "      <td>It's my first time to use iOS phone and I am l...</td>\n",
       "      <td>data:image/svg+xml;base64,PHN2ZyB4bWxucz0iaHR0...</td>\n",
       "    </tr>\n",
       "    <tr>\n",
       "      <th>5</th>\n",
       "      <td>Vamshi  Chakrala</td>\n",
       "      <td>Worth every penny</td>\n",
       "      <td>5</td>\n",
       "      <td>/apple-iphone-11-green-64-gb/p/itm386a85013a3d...</td>\n",
       "      <td>Previously I was using one plus 3t it was a gr...</td>\n",
       "      <td>data:image/svg+xml;base64,PHN2ZyB4bWxucz0iaHR0...</td>\n",
       "    </tr>\n",
       "    <tr>\n",
       "      <th>6</th>\n",
       "      <td>Chirag Rajput</td>\n",
       "      <td>Perfect product!</td>\n",
       "      <td>5</td>\n",
       "      <td>/apple-iphone-11-yellow-64-gb/p/itm39b1a0ba9dd...</td>\n",
       "      <td>Value for money5 star rating Excellent cameraB...</td>\n",
       "      <td>data:image/svg+xml;base64,PHN2ZyB4bWxucz0iaHR0...</td>\n",
       "    </tr>\n",
       "    <tr>\n",
       "      <th>7</th>\n",
       "      <td>vijay hegde</td>\n",
       "      <td>Pretty good</td>\n",
       "      <td>4</td>\n",
       "      <td>/apple-iphone-11-purple-64-gb/p/itm2b8d03427dd...</td>\n",
       "      <td>I was using Iphone 6s and also Oneplus 6t. Bot...</td>\n",
       "      <td>data:image/svg+xml;base64,PHN2ZyB4bWxucz0iaHR0...</td>\n",
       "    </tr>\n",
       "    <tr>\n",
       "      <th>8</th>\n",
       "      <td>Vishal Dubey</td>\n",
       "      <td>Highly recommended</td>\n",
       "      <td>5</td>\n",
       "      <td>/apple-iphone-11-yellow-128-gb/p/itm7030edc9e1...</td>\n",
       "      <td>What a camera .....just awesome ..you can feel...</td>\n",
       "      <td>data:image/svg+xml;base64,PHN2ZyB4bWxucz0iaHR0...</td>\n",
       "    </tr>\n",
       "    <tr>\n",
       "      <th>9</th>\n",
       "      <td>Rahul Verma</td>\n",
       "      <td>Great product</td>\n",
       "      <td>5</td>\n",
       "      <td>/apple-iphone-11-green-128-gb/p/itm97529bbf640...</td>\n",
       "      <td>Amazing Powerful and Durable Gadget.I’m am ver...</td>\n",
       "      <td>data:image/svg+xml;base64,PHN2ZyB4bWxucz0iaHR0...</td>\n",
       "    </tr>\n",
       "  </tbody>\n",
       "</table>\n",
       "</div>"
      ],
      "text/plain": [
       "                 Name             Comments  Ratings  \\\n",
       "0   Flipkart Customer       Simply awesome        5   \n",
       "1   Flipkart Customer     Perfect product!        5   \n",
       "2  Manish Raghuvanshi  Best in the market!        5   \n",
       "3       George Haokip      Value-for-money        4   \n",
       "4        Jimly  Gogoi   Highly recommended        5   \n",
       "5   Vamshi  Chakrala     Worth every penny        5   \n",
       "6       Chirag Rajput     Perfect product!        5   \n",
       "7         vijay hegde          Pretty good        4   \n",
       "8        Vishal Dubey   Highly recommended        5   \n",
       "9         Rahul Verma        Great product        5   \n",
       "\n",
       "                                           Href_link  \\\n",
       "0  /apple-iphone-11-black-64-gb/p/itm4e5041ba101f...   \n",
       "1  /apple-iphone-11-white-64-gb/p/itmfc6a7091eb20...   \n",
       "2  /apple-iphone-11-black-128-gb/p/itm8244e8d955a...   \n",
       "3  /apple-iphone-11-red-128-gb/p/itm8d14bd0e33a1c...   \n",
       "4  /apple-iphone-11-red-64-gb/p/itmc3935326f2feb?...   \n",
       "5  /apple-iphone-11-green-64-gb/p/itm386a85013a3d...   \n",
       "6  /apple-iphone-11-yellow-64-gb/p/itm39b1a0ba9dd...   \n",
       "7  /apple-iphone-11-purple-64-gb/p/itm2b8d03427dd...   \n",
       "8  /apple-iphone-11-yellow-128-gb/p/itm7030edc9e1...   \n",
       "9  /apple-iphone-11-green-128-gb/p/itm97529bbf640...   \n",
       "\n",
       "                                     People_comments  \\\n",
       "0  Really satisfied with the Product I received.....   \n",
       "1  Amazing phone with great cameras and better ba...   \n",
       "2  Great iPhone very snappy experience as apple k...   \n",
       "3  I'm Really happy with the productDelivery was ...   \n",
       "4  It's my first time to use iOS phone and I am l...   \n",
       "5  Previously I was using one plus 3t it was a gr...   \n",
       "6  Value for money5 star rating Excellent cameraB...   \n",
       "7  I was using Iphone 6s and also Oneplus 6t. Bot...   \n",
       "8  What a camera .....just awesome ..you can feel...   \n",
       "9  Amazing Powerful and Durable Gadget.I’m am ver...   \n",
       "\n",
       "                                          image_urls  \n",
       "0  data:image/svg+xml;base64,PHN2ZyB4bWxucz0iaHR0...  \n",
       "1  data:image/svg+xml;base64,PHN2ZyB4bWxucz0iaHR0...  \n",
       "2  data:image/svg+xml;base64,PHN2ZyB4bWxucz0iaHR0...  \n",
       "3  data:image/svg+xml;base64,PHN2ZyB4bWxucz0iaHR0...  \n",
       "4  data:image/svg+xml;base64,PHN2ZyB4bWxucz0iaHR0...  \n",
       "5  data:image/svg+xml;base64,PHN2ZyB4bWxucz0iaHR0...  \n",
       "6  data:image/svg+xml;base64,PHN2ZyB4bWxucz0iaHR0...  \n",
       "7  data:image/svg+xml;base64,PHN2ZyB4bWxucz0iaHR0...  \n",
       "8  data:image/svg+xml;base64,PHN2ZyB4bWxucz0iaHR0...  \n",
       "9  data:image/svg+xml;base64,PHN2ZyB4bWxucz0iaHR0...  "
      ]
     },
     "execution_count": 45,
     "metadata": {},
     "output_type": "execute_result"
    }
   ],
   "source": [
    "data=pd.read_csv(\"Data2.csv.\")\n",
    "data"
   ]
  },
  {
   "cell_type": "code",
   "execution_count": null,
   "id": "60fb878c",
   "metadata": {},
   "outputs": [],
   "source": []
  }
 ],
 "metadata": {
  "kernelspec": {
   "display_name": "Python 3 (ipykernel)",
   "language": "python",
   "name": "python3"
  },
  "language_info": {
   "codemirror_mode": {
    "name": "ipython",
    "version": 3
   },
   "file_extension": ".py",
   "mimetype": "text/x-python",
   "name": "python",
   "nbconvert_exporter": "python",
   "pygments_lexer": "ipython3",
   "version": "3.9.12"
  },
  "varInspector": {
   "cols": {
    "lenName": 16,
    "lenType": 16,
    "lenVar": 40
   },
   "kernels_config": {
    "python": {
     "delete_cmd_postfix": "",
     "delete_cmd_prefix": "del ",
     "library": "var_list.py",
     "varRefreshCmd": "print(var_dic_list())"
    },
    "r": {
     "delete_cmd_postfix": ") ",
     "delete_cmd_prefix": "rm(",
     "library": "var_list.r",
     "varRefreshCmd": "cat(var_dic_list()) "
    }
   },
   "types_to_exclude": [
    "module",
    "function",
    "builtin_function_or_method",
    "instance",
    "_Feature"
   ],
   "window_display": false
  }
 },
 "nbformat": 4,
 "nbformat_minor": 5
}
